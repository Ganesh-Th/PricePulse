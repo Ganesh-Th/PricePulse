{
 "cells": [
  {
   "cell_type": "markdown",
   "metadata": {},
   "source": [
    "Loading the Dataset"
   ]
  },
  {
   "cell_type": "code",
   "execution_count": 2,
   "metadata": {},
   "outputs": [],
   "source": [
    "import pandas as pd"
   ]
  },
  {
   "cell_type": "code",
   "execution_count": 3,
   "metadata": {},
   "outputs": [
    {
     "data": {
      "text/html": [
       "<div>\n",
       "<style scoped>\n",
       "    .dataframe tbody tr th:only-of-type {\n",
       "        vertical-align: middle;\n",
       "    }\n",
       "\n",
       "    .dataframe tbody tr th {\n",
       "        vertical-align: top;\n",
       "    }\n",
       "\n",
       "    .dataframe thead th {\n",
       "        text-align: right;\n",
       "    }\n",
       "</style>\n",
       "<table border=\"1\" class=\"dataframe\">\n",
       "  <thead>\n",
       "    <tr style=\"text-align: right;\">\n",
       "      <th></th>\n",
       "      <th>ID</th>\n",
       "      <th>Phone Name</th>\n",
       "      <th>Model</th>\n",
       "      <th>Color</th>\n",
       "      <th>Storage</th>\n",
       "      <th>Price</th>\n",
       "    </tr>\n",
       "  </thead>\n",
       "  <tbody>\n",
       "    <tr>\n",
       "      <th>0</th>\n",
       "      <td>1</td>\n",
       "      <td>Samsung</td>\n",
       "      <td>Galaxy A15 5G</td>\n",
       "      <td>Light Blue</td>\n",
       "      <td>128GB</td>\n",
       "      <td>17999</td>\n",
       "    </tr>\n",
       "    <tr>\n",
       "      <th>1</th>\n",
       "      <td>2</td>\n",
       "      <td>Samsung</td>\n",
       "      <td>Galaxy A15 5G</td>\n",
       "      <td>Blue</td>\n",
       "      <td>128GB</td>\n",
       "      <td>17999</td>\n",
       "    </tr>\n",
       "    <tr>\n",
       "      <th>2</th>\n",
       "      <td>3</td>\n",
       "      <td>Samsung</td>\n",
       "      <td>Galaxy A15 5G</td>\n",
       "      <td>Blue Black</td>\n",
       "      <td>128GB</td>\n",
       "      <td>17999</td>\n",
       "    </tr>\n",
       "    <tr>\n",
       "      <th>3</th>\n",
       "      <td>4</td>\n",
       "      <td>Oneplus</td>\n",
       "      <td>12R 5G</td>\n",
       "      <td>Iron Gray</td>\n",
       "      <td>128GB</td>\n",
       "      <td>39999</td>\n",
       "    </tr>\n",
       "    <tr>\n",
       "      <th>4</th>\n",
       "      <td>5</td>\n",
       "      <td>Oneplus</td>\n",
       "      <td>12R 5G</td>\n",
       "      <td>Cool Blue</td>\n",
       "      <td>128GB</td>\n",
       "      <td>39999</td>\n",
       "    </tr>\n",
       "  </tbody>\n",
       "</table>\n",
       "</div>"
      ],
      "text/plain": [
       "   ID Phone Name           Model        Color Storage  Price\n",
       "0   1    Samsung  Galaxy A15 5G    Light Blue  128GB   17999\n",
       "1   2    Samsung  Galaxy A15 5G          Blue  128GB   17999\n",
       "2   3    Samsung  Galaxy A15 5G    Blue Black  128GB   17999\n",
       "3   4    Oneplus         12R 5G     Iron Gray  128GB   39999\n",
       "4   5    Oneplus         12R 5G     Cool Blue  128GB   39999"
      ]
     },
     "execution_count": 3,
     "metadata": {},
     "output_type": "execute_result"
    }
   ],
   "source": [
    "df = pd.read_csv(\"phone_data_trial.csv\", encoding='latin-1')\n",
    "df.head()"
   ]
  },
  {
   "cell_type": "code",
   "execution_count": 4,
   "metadata": {},
   "outputs": [
    {
     "name": "stdout",
     "output_type": "stream",
     "text": [
      "<class 'pandas.core.frame.DataFrame'>\n",
      "RangeIndex: 1432 entries, 0 to 1431\n",
      "Data columns (total 6 columns):\n",
      " #   Column      Non-Null Count  Dtype \n",
      "---  ------      --------------  ----- \n",
      " 0   ID          1432 non-null   int64 \n",
      " 1   Phone Name  1432 non-null   object\n",
      " 2   Model       1432 non-null   object\n",
      " 3   Color       1432 non-null   object\n",
      " 4   Storage     1432 non-null   object\n",
      " 5   Price       1432 non-null   int64 \n",
      "dtypes: int64(2), object(4)\n",
      "memory usage: 67.2+ KB\n",
      "\n",
      " data size: 8592\n"
     ]
    }
   ],
   "source": [
    "df.info()\n",
    "print(\"\\n data size:\",df.size)"
   ]
  },
  {
   "cell_type": "code",
   "execution_count": 5,
   "metadata": {},
   "outputs": [
    {
     "name": "stdout",
     "output_type": "stream",
     "text": [
      "ID            0\n",
      "Phone Name    0\n",
      "Model         0\n",
      "Color         0\n",
      "Storage       0\n",
      "Price         0\n",
      "dtype: int64\n"
     ]
    }
   ],
   "source": [
    "print(df.isna().sum())"
   ]
  },
  {
   "cell_type": "markdown",
   "metadata": {},
   "source": [
    "Label Encoding"
   ]
  },
  {
   "cell_type": "code",
   "execution_count": 6,
   "metadata": {},
   "outputs": [],
   "source": [
    "from sklearn.preprocessing import LabelEncoder\n",
    "from sklearn.model_selection import train_test_split"
   ]
  },
  {
   "cell_type": "code",
   "execution_count": 7,
   "metadata": {},
   "outputs": [],
   "source": [
    "df['Model'] = df['Model'].astype(str)\n",
    "df['Storage'] = df['Storage'].astype(str)\n",
    "\n",
    "\n",
    "le = LabelEncoder()\n",
    "df['Phone Name'] = le.fit_transform(df['Phone Name'])\n",
    "df['Model'] = le.fit_transform(df['Model'])\n",
    "df['Color'] = le.fit_transform(df['Color'])\n",
    "df['Storage'] = le.fit_transform(df['Storage'])\n"
   ]
  },
  {
   "cell_type": "code",
   "execution_count": 8,
   "metadata": {},
   "outputs": [
    {
     "name": "stdout",
     "output_type": "stream",
     "text": [
      "<class 'pandas.core.frame.DataFrame'>\n",
      "RangeIndex: 1432 entries, 0 to 1431\n",
      "Data columns (total 6 columns):\n",
      " #   Column      Non-Null Count  Dtype\n",
      "---  ------      --------------  -----\n",
      " 0   ID          1432 non-null   int64\n",
      " 1   Phone Name  1432 non-null   int32\n",
      " 2   Model       1432 non-null   int32\n",
      " 3   Color       1432 non-null   int32\n",
      " 4   Storage     1432 non-null   int32\n",
      " 5   Price       1432 non-null   int64\n",
      "dtypes: int32(4), int64(2)\n",
      "memory usage: 44.9 KB\n"
     ]
    },
    {
     "data": {
      "text/html": [
       "<div>\n",
       "<style scoped>\n",
       "    .dataframe tbody tr th:only-of-type {\n",
       "        vertical-align: middle;\n",
       "    }\n",
       "\n",
       "    .dataframe tbody tr th {\n",
       "        vertical-align: top;\n",
       "    }\n",
       "\n",
       "    .dataframe thead th {\n",
       "        text-align: right;\n",
       "    }\n",
       "</style>\n",
       "<table border=\"1\" class=\"dataframe\">\n",
       "  <thead>\n",
       "    <tr style=\"text-align: right;\">\n",
       "      <th></th>\n",
       "      <th>ID</th>\n",
       "      <th>Phone Name</th>\n",
       "      <th>Model</th>\n",
       "      <th>Color</th>\n",
       "      <th>Storage</th>\n",
       "      <th>Price</th>\n",
       "    </tr>\n",
       "  </thead>\n",
       "  <tbody>\n",
       "    <tr>\n",
       "      <th>0</th>\n",
       "      <td>1</td>\n",
       "      <td>18</td>\n",
       "      <td>71</td>\n",
       "      <td>94</td>\n",
       "      <td>8</td>\n",
       "      <td>17999</td>\n",
       "    </tr>\n",
       "    <tr>\n",
       "      <th>1</th>\n",
       "      <td>2</td>\n",
       "      <td>18</td>\n",
       "      <td>71</td>\n",
       "      <td>20</td>\n",
       "      <td>8</td>\n",
       "      <td>17999</td>\n",
       "    </tr>\n",
       "    <tr>\n",
       "      <th>2</th>\n",
       "      <td>3</td>\n",
       "      <td>18</td>\n",
       "      <td>71</td>\n",
       "      <td>21</td>\n",
       "      <td>8</td>\n",
       "      <td>17999</td>\n",
       "    </tr>\n",
       "    <tr>\n",
       "      <th>3</th>\n",
       "      <td>4</td>\n",
       "      <td>11</td>\n",
       "      <td>21</td>\n",
       "      <td>87</td>\n",
       "      <td>8</td>\n",
       "      <td>39999</td>\n",
       "    </tr>\n",
       "    <tr>\n",
       "      <th>4</th>\n",
       "      <td>5</td>\n",
       "      <td>11</td>\n",
       "      <td>21</td>\n",
       "      <td>36</td>\n",
       "      <td>8</td>\n",
       "      <td>39999</td>\n",
       "    </tr>\n",
       "  </tbody>\n",
       "</table>\n",
       "</div>"
      ],
      "text/plain": [
       "   ID  Phone Name  Model  Color  Storage  Price\n",
       "0   1          18     71     94        8  17999\n",
       "1   2          18     71     20        8  17999\n",
       "2   3          18     71     21        8  17999\n",
       "3   4          11     21     87        8  39999\n",
       "4   5          11     21     36        8  39999"
      ]
     },
     "execution_count": 8,
     "metadata": {},
     "output_type": "execute_result"
    }
   ],
   "source": [
    "df.info()\n",
    "df.head()"
   ]
  },
  {
   "cell_type": "markdown",
   "metadata": {},
   "source": [
    "Training the Model"
   ]
  },
  {
   "cell_type": "code",
   "execution_count": 9,
   "metadata": {},
   "outputs": [],
   "source": [
    "X = df.drop(['Price'], axis=1)\n",
    "y = df[['Price']]"
   ]
  },
  {
   "cell_type": "code",
   "execution_count": 10,
   "metadata": {},
   "outputs": [],
   "source": [
    "X_train, X_test, y_train, y_test = train_test_split(X, y, test_size=0.2, random_state=1)"
   ]
  },
  {
   "cell_type": "code",
   "execution_count": 11,
   "metadata": {},
   "outputs": [],
   "source": [
    "from sklearn.ensemble import RandomForestRegressor\n",
    "from sklearn.ensemble import AdaBoostRegressor\n",
    "import xgboost as xgb\n",
    "from sklearn.naive_bayes import GaussianNB\n",
    "from sklearn.metrics import mean_squared_error, r2_score\n"
   ]
  },
  {
   "cell_type": "markdown",
   "metadata": {},
   "source": [
    "Random Forest Model"
   ]
  },
  {
   "cell_type": "code",
   "execution_count": 12,
   "metadata": {},
   "outputs": [
    {
     "name": "stderr",
     "output_type": "stream",
     "text": [
      "e:\\Coding\\8th sem codes\\Flask web\\env\\lib\\site-packages\\sklearn\\base.py:1474: DataConversionWarning: A column-vector y was passed when a 1d array was expected. Please change the shape of y to (n_samples,), for example using ravel().\n",
      "  return fit_method(estimator, *args, **kwargs)\n"
     ]
    },
    {
     "name": "stdout",
     "output_type": "stream",
     "text": [
      "Random Forest Regressor Model Performance:\n",
      "Mean Squared Error: 27686397.59438467\n",
      "R^2 Score: 0.9712323893627041\n"
     ]
    }
   ],
   "source": [
    "# Train the Random Forest Regressor model\n",
    "rf_model = RandomForestRegressor(n_estimators=100, random_state=42)\n",
    "rf_model.fit(X_train, y_train)\n",
    "\n",
    "# Make predictions\n",
    "rf_predictions = rf_model.predict(X_test)\n",
    "\n",
    "# Evaluate the model\n",
    "rf_mse = mean_squared_error(y_test, rf_predictions)\n",
    "rf_r2 = r2_score(y_test, rf_predictions)\n",
    "print(f'Random Forest Regressor Model Performance:')\n",
    "print(f'Mean Squared Error: {rf_mse}')\n",
    "print(f'R^2 Score: {rf_r2}')\n"
   ]
  },
  {
   "cell_type": "markdown",
   "metadata": {},
   "source": [
    "Naive Bayes Model"
   ]
  },
  {
   "cell_type": "code",
   "execution_count": 13,
   "metadata": {},
   "outputs": [
    {
     "name": "stdout",
     "output_type": "stream",
     "text": [
      "Naive Bayes Classifier Model Performance:\n",
      "Accuracy: 0.4250871080139373\n"
     ]
    },
    {
     "name": "stderr",
     "output_type": "stream",
     "text": [
      "e:\\Coding\\8th sem codes\\Flask web\\env\\lib\\site-packages\\sklearn\\utils\\validation.py:1300: DataConversionWarning: A column-vector y was passed when a 1d array was expected. Please change the shape of y to (n_samples, ), for example using ravel().\n",
      "  y = column_or_1d(y, warn=True)\n"
     ]
    }
   ],
   "source": [
    "# Train the Naive Bayes Classifier model\n",
    "nb_model = GaussianNB()\n",
    "nb_model.fit(X_train, y_train)\n",
    "\n",
    "# Make predictions\n",
    "nb_predictions = nb_model.predict(X_test)\n",
    "\n",
    "# Evaluate the model\n",
    "nb_accuracy = nb_model.score(X_test, y_test)\n",
    "print(f'Naive Bayes Classifier Model Performance:')\n",
    "print(f'Accuracy: {nb_accuracy}')"
   ]
  },
  {
   "cell_type": "markdown",
   "metadata": {},
   "source": [
    "AdaBoost Model"
   ]
  },
  {
   "cell_type": "code",
   "execution_count": 14,
   "metadata": {},
   "outputs": [
    {
     "name": "stderr",
     "output_type": "stream",
     "text": [
      "e:\\Coding\\8th sem codes\\Flask web\\env\\lib\\site-packages\\sklearn\\utils\\validation.py:1300: DataConversionWarning: A column-vector y was passed when a 1d array was expected. Please change the shape of y to (n_samples, ), for example using ravel().\n",
      "  y = column_or_1d(y, warn=True)\n"
     ]
    },
    {
     "name": "stdout",
     "output_type": "stream",
     "text": [
      "AdaBoost Regressor Model Performance:\n",
      "Mean Squared Error: 127983528.48022406\n",
      "R^2 Score: 0.8670184409959821\n"
     ]
    }
   ],
   "source": [
    "# Train the AdaBoost Regressor model\n",
    "ab_model = AdaBoostRegressor(random_state=42)\n",
    "ab_model.fit(X_train, y_train)\n",
    "\n",
    "# Make predictions\n",
    "ab_predictions = ab_model.predict(X_test)\n",
    "\n",
    "# Evaluate the model\n",
    "ab_mse = mean_squared_error(y_test, ab_predictions)\n",
    "ab_r2 = r2_score(y_test, ab_predictions)\n",
    "print(f'AdaBoost Regressor Model Performance:')\n",
    "print(f'Mean Squared Error: {ab_mse}')\n",
    "print(f'R^2 Score: {ab_r2}')"
   ]
  },
  {
   "cell_type": "markdown",
   "metadata": {},
   "source": [
    "XGBoost Model"
   ]
  },
  {
   "cell_type": "code",
   "execution_count": 15,
   "metadata": {},
   "outputs": [
    {
     "name": "stdout",
     "output_type": "stream",
     "text": [
      "XGBoost Model Performance:\n",
      "Mean Squared Error: 13774570.30380409\n",
      "R^2 Score: 0.9856875032641926\n"
     ]
    }
   ],
   "source": [
    "# Train the XGBoost model\n",
    "xgb_model = xgb.XGBRegressor(objective='reg:squarederror', max_depth=6, learning_rate=0.1, n_estimators=1000, n_jobs=-1)\n",
    "xgb_model.fit(X_train, y_train)\n",
    "\n",
    "# Make predictions\n",
    "xgb_predictions = xgb_model.predict(X_test)\n",
    "\n",
    "# Evaluate the model\n",
    "xgb_mse = mean_squared_error(y_test, xgb_predictions)\n",
    "xgb_r2 = r2_score(y_test, xgb_predictions)\n",
    "print(f'XGBoost Model Performance:')\n",
    "print(f'Mean Squared Error: {xgb_mse}')\n",
    "print(f'R^2 Score: {xgb_r2}')"
   ]
  },
  {
   "cell_type": "code",
   "execution_count": 16,
   "metadata": {},
   "outputs": [],
   "source": [
    "import pickle\n",
    "with open('predict_model.pkl', 'wb') as f:\n",
    "    pickle.dump(xgb_model, f)"
   ]
  }
 ],
 "metadata": {
  "kernelspec": {
   "display_name": "env",
   "language": "python",
   "name": "python3"
  },
  "language_info": {
   "codemirror_mode": {
    "name": "ipython",
    "version": 3
   },
   "file_extension": ".py",
   "mimetype": "text/x-python",
   "name": "python",
   "nbconvert_exporter": "python",
   "pygments_lexer": "ipython3",
   "version": "3.9.6"
  }
 },
 "nbformat": 4,
 "nbformat_minor": 2
}
